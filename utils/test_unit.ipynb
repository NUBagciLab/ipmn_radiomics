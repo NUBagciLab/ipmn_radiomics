{
 "cells": [
  {
   "cell_type": "code",
   "execution_count": 2,
   "metadata": {},
   "outputs": [],
   "source": [
    "import numpy as np"
   ]
  },
  {
   "cell_type": "code",
   "execution_count": 6,
   "metadata": {},
   "outputs": [
    {
     "name": "stdout",
     "output_type": "stream",
     "text": [
      "(10, 3, 224, 224)\n",
      "[0 2 1 2 2 2 1 2 1 2]\n"
     ]
    }
   ],
   "source": [
    "x_test = np.random.rand(10, 3, 224, 224)\n",
    "y_test = np.random.randint(0, 3, size=(10,))\n",
    "\n",
    "print(x_test.shape)\n",
    "print(y_test)"
   ]
  },
  {
   "attachments": {},
   "cell_type": "markdown",
   "metadata": {},
   "source": [
    "fold split"
   ]
  },
  {
   "cell_type": "code",
   "execution_count": 1,
   "metadata": {},
   "outputs": [
    {
     "name": "stdout",
     "output_type": "stream",
     "text": [
      "in fold 0, val# = 2, test# = 8, train# = 8\n",
      "VAL: [1, 2]\n",
      "TEST: [3, 4, 5, 6, 7, 8, 9, 10]\n",
      "TRAIN: [3, 4, 5, 6, 7, 8, 9, 10]\n",
      "in fold 1, val# = 2, test# = 8, train# = 8\n",
      "VAL: [3, 4]\n",
      "TEST: [1, 2, 5, 6, 7, 8, 9, 10]\n",
      "TRAIN: [5, 6, 7, 8, 9, 10, 1, 2]\n",
      "in fold 2, val# = 2, test# = 8, train# = 8\n",
      "VAL: [5, 6]\n",
      "TEST: [1, 2, 3, 4, 7, 8, 9, 10]\n",
      "TRAIN: [7, 8, 9, 10, 1, 2, 3, 4]\n",
      "in fold 3, val# = 2, test# = 8, train# = 8\n",
      "VAL: [7, 8]\n",
      "TEST: [1, 2, 3, 4, 5, 6, 9, 10]\n",
      "TRAIN: [9, 10, 1, 2, 3, 4, 5, 6]\n",
      "in fold 4, val# = 2, test# = 8, train# = 8\n",
      "VAL: [9, 10]\n",
      "TEST: [1, 2, 3, 4, 5, 6, 7, 8]\n",
      "TRAIN: [1, 2, 3, 4, 5, 6, 7, 8]\n"
     ]
    }
   ],
   "source": [
    "patient_list = [1,2,3,4,5,6,7,8,9,10]\n",
    "patients_per_fold = 2\n",
    "for i in range(5):\n",
    "        start_idx = i * patients_per_fold\n",
    "        end_idx = start_idx + patients_per_fold\n",
    "        val_patients = patient_list[start_idx:end_idx]\n",
    "        test_patients = patient_list[:start_idx] + patient_list[end_idx:]\n",
    "        train_patients = patient_list[end_idx:] + patient_list[:start_idx]\n",
    "        print(f'in fold {i}, val# = {len(val_patients)}, test# = {len(test_patients)}, train# = {len(train_patients)}')\n",
    "        print('VAL:',val_patients)\n",
    "        print('TEST:',test_patients)\n",
    "        print('TRAIN:',train_patients)"
   ]
  }
 ],
 "metadata": {
  "kernelspec": {
   "display_name": "base",
   "language": "python",
   "name": "python3"
  },
  "language_info": {
   "codemirror_mode": {
    "name": "ipython",
    "version": 3
   },
   "file_extension": ".py",
   "mimetype": "text/x-python",
   "name": "python",
   "nbconvert_exporter": "python",
   "pygments_lexer": "ipython3",
   "version": "3.10.9"
  },
  "orig_nbformat": 4
 },
 "nbformat": 4,
 "nbformat_minor": 2
}
